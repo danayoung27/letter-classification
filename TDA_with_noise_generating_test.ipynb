{
 "cells": [
  {
   "cell_type": "code",
   "execution_count": 8,
   "metadata": {
    "colab": {
     "base_uri": "https://localhost:8080/",
     "height": 717
    },
    "colab_type": "code",
    "id": "KfDBnXcfEDCK",
    "outputId": "6467bd88-91fb-4446-b3bb-ad85843b6464"
   },
   "outputs": [
    {
     "name": "stdout",
     "output_type": "stream",
     "text": [
      "Requirement already satisfied (use --upgrade to upgrade): scikit-tda in c:\\users\\x.wang\\anaconda3\\lib\\site-packages\n",
      "Requirement already satisfied (use --upgrade to upgrade): numpy in c:\\users\\x.wang\\anaconda3\\lib\\site-packages (from scikit-tda)\n",
      "Requirement already satisfied (use --upgrade to upgrade): scipy in c:\\users\\x.wang\\anaconda3\\lib\\site-packages (from scikit-tda)\n",
      "Requirement already satisfied (use --upgrade to upgrade): ripser in c:\\users\\x.wang\\anaconda3\\lib\\site-packages (from scikit-tda)\n",
      "Requirement already satisfied (use --upgrade to upgrade): pillow in c:\\users\\x.wang\\anaconda3\\lib\\site-packages (from scikit-tda)\n",
      "Requirement already satisfied (use --upgrade to upgrade): kmapper in c:\\users\\x.wang\\anaconda3\\lib\\site-packages (from scikit-tda)\n",
      "Requirement already satisfied (use --upgrade to upgrade): persim in c:\\users\\x.wang\\anaconda3\\lib\\site-packages (from scikit-tda)\n",
      "Requirement already satisfied (use --upgrade to upgrade): matplotlib in c:\\users\\x.wang\\anaconda3\\lib\\site-packages (from scikit-tda)\n",
      "Requirement already satisfied (use --upgrade to upgrade): umap-learn in c:\\users\\x.wang\\anaconda3\\lib\\site-packages (from scikit-tda)\n",
      "Requirement already satisfied (use --upgrade to upgrade): scikit-learn in c:\\users\\x.wang\\anaconda3\\lib\\site-packages (from scikit-tda)\n",
      "Requirement already satisfied (use --upgrade to upgrade): numba in c:\\users\\x.wang\\anaconda3\\lib\\site-packages (from scikit-tda)\n",
      "Requirement already satisfied (use --upgrade to upgrade): tadasets in c:\\users\\x.wang\\anaconda3\\lib\\site-packages (from scikit-tda)\n",
      "Requirement already satisfied (use --upgrade to upgrade): Cython in c:\\users\\x.wang\\anaconda3\\lib\\site-packages (from scikit-tda)\n",
      "Requirement already satisfied (use --upgrade to upgrade): Jinja2 in c:\\users\\x.wang\\anaconda3\\lib\\site-packages (from kmapper->scikit-tda)\n",
      "Requirement already satisfied (use --upgrade to upgrade): hopcroftkarp in c:\\users\\x.wang\\anaconda3\\lib\\site-packages (from persim->scikit-tda)\n",
      "Requirement already satisfied (use --upgrade to upgrade): cycler>=0.10 in c:\\users\\x.wang\\anaconda3\\lib\\site-packages (from matplotlib->scikit-tda)\n",
      "Requirement already satisfied (use --upgrade to upgrade): kiwisolver>=1.0.1 in c:\\users\\x.wang\\anaconda3\\lib\\site-packages (from matplotlib->scikit-tda)\n",
      "Requirement already satisfied (use --upgrade to upgrade): pyparsing!=2.0.4,!=2.1.2,!=2.1.6,>=2.0.1 in c:\\users\\x.wang\\anaconda3\\lib\\site-packages (from matplotlib->scikit-tda)\n",
      "Requirement already satisfied (use --upgrade to upgrade): python-dateutil>=2.1 in c:\\users\\x.wang\\anaconda3\\lib\\site-packages (from matplotlib->scikit-tda)\n",
      "Requirement already satisfied (use --upgrade to upgrade): llvmlite>=0.28.0dev0 in c:\\users\\x.wang\\anaconda3\\lib\\site-packages (from numba->scikit-tda)\n",
      "Requirement already satisfied (use --upgrade to upgrade): MarkupSafe>=0.23 in c:\\users\\x.wang\\anaconda3\\lib\\site-packages (from Jinja2->kmapper->scikit-tda)\n",
      "Requirement already satisfied (use --upgrade to upgrade): six in c:\\users\\x.wang\\anaconda3\\lib\\site-packages (from cycler>=0.10->matplotlib->scikit-tda)\n",
      "Requirement already satisfied (use --upgrade to upgrade): setuptools in c:\\users\\x.wang\\anaconda3\\lib\\site-packages (from kiwisolver>=1.0.1->matplotlib->scikit-tda)\n",
      "Note: you may need to restart the kernel to use updated packages.\n"
     ]
    },
    {
     "name": "stderr",
     "output_type": "stream",
     "text": [
      "You are using pip version 19.2.3, however version 19.3 is available.\n",
      "You should consider upgrading via the 'python -m pip install --upgrade pip' command.\n"
     ]
    }
   ],
   "source": [
    "pip install scikit-tda"
   ]
  },
  {
   "cell_type": "code",
   "execution_count": 9,
   "metadata": {
    "colab": {},
    "colab_type": "code",
    "id": "iZ4zBnREDp0c"
   },
   "outputs": [],
   "source": [
    "import pandas as pd\n",
    "import numpy as np\n",
    "import matplotlib.pyplot as plt\n",
    "from pandas import Series, DataFrame\n",
    "from numpy import genfromtxt\n",
    "from ripser import ripser,lower_star_img\n",
    "from persim import plot_diagrams"
   ]
  },
  {
   "cell_type": "code",
   "execution_count": 22,
   "metadata": {
    "colab": {
     "base_uri": "https://localhost:8080/",
     "height": 1000
    },
    "colab_type": "code",
    "id": "n-Lfs_hnDp0h",
    "outputId": "2a730bbe-6f58-4c32-80c2-5559af33cc92",
    "scrolled": true
   },
   "outputs": [
    {
     "name": "stdout",
     "output_type": "stream",
     "text": [
      "the ith: 0 [[ 2. inf]]\n",
      "the ith: 1 [[ 1. inf]]\n",
      "the ith: 2 [[ 2. inf]]\n",
      "the ith: 3 [[ 1. inf]]\n",
      "the ith: 4 [[ 1. inf]]\n",
      "the ith: 5 [[ 1. inf]]\n",
      "the ith: 6 [[ 1. inf]]\n",
      "the ith: 7 [[ 1. inf]]\n",
      "the ith: 8 [[ 2. inf]]\n",
      "the ith: 9 [[ 2. inf]]\n",
      "the ith: 10 [[ 1. inf]]\n",
      "the ith: 11 [[ 1. inf]]\n",
      "the ith: 12 [[ 1. inf]]\n",
      "the ith: 13 [[ 1. inf]]\n",
      "the ith: 14 [[ 1. inf]]\n",
      "the ith: 15 [[ 4.  5.]\n",
      " [ 1. inf]]\n",
      "the ith: 16 [[ 6.  7.]\n",
      " [ 1. inf]]\n",
      "the ith: 17 [[ 1. inf]]\n",
      "the ith: 18 [[ 1. inf]]\n",
      "the ith: 19 [[ 1. inf]]\n",
      "the ith: 20 [[ 6.  8.]\n",
      " [ 1. inf]]\n",
      "the ith: 21 [[ 5.  6.]\n",
      " [ 1. inf]]\n",
      "the ith: 22 [[ 3.  5.]\n",
      " [ 1. inf]]\n",
      "the ith: 23 [[ 1. inf]]\n",
      "the ith: 24 [[ 4.  5.]\n",
      " [ 1. inf]]\n",
      "the ith: 25 [[ 4.  5.]\n",
      " [ 1. inf]]\n",
      "feature matrix:\n",
      " [[ 98.  99.  96.  97.  96.]\n",
      " [ 99.  98.  97.  97.  97.]\n",
      " [ 98.  99. 101.  98.  98.]\n",
      " [ 99.  98.  97.  97.  97.]\n",
      " [ 99.  98. 106. 100. 101.]\n",
      " [ 99.  98.  99.  95. 100.]\n",
      " [ 99.  99.  99.  96.  99.]\n",
      " [ 99.  98.  95.  96.  96.]\n",
      " [ 98.  98.  95.  95.  95.]\n",
      " [ 98.  99.  94.  95.  95.]\n",
      " [ 99.  98.  98.  97.  97.]\n",
      " [ 99.  98.  95.  96.  92.]\n",
      " [ 99.  99.  96.  99.  97.]\n",
      " [ 99.  99.  95.  96.  96.]\n",
      " [ 99.  99.  96.  97.  97.]\n",
      " [100.  98.  96.  95.  97.]\n",
      " [100. 100.  96.  97.  98.]\n",
      " [ 99.  98.  97.  97.  96.]\n",
      " [ 99. 103. 101.  97. 100.]\n",
      " [ 99.  99.  96.  94.  97.]\n",
      " [101.  98.  96.  97.  97.]\n",
      " [100.  99.  96.  96.  97.]\n",
      " [101.  99.  97.  97.  99.]\n",
      " [ 99.  99.  97.  97.  96.]\n",
      " [100.  98.  95.  95.  96.]\n",
      " [100. 103. 100.  99.  97.]] \n",
      "\n",
      "how many items in this sorted distance list: 325 \n",
      " sorted distance: [(0.0, 1, 3), (1.0, 1, 10), (1.0, 3, 10), (1.0, 7, 13), (1.0, 1, 17), (1.0, 3, 17), (1.0, 17, 23), (1.4142135623730951, 8, 9), (1.4142135623730951, 0, 14), (1.4142135623730951, 1, 14), (1.4142135623730951, 3, 14), (1.4142135623730951, 10, 17), (1.4142135623730951, 14, 21), (1.4142135623730951, 15, 21), (1.4142135623730951, 0, 23), (1.4142135623730951, 1, 23), (1.4142135623730951, 3, 23), (1.4142135623730951, 14, 23), (1.4142135623730951, 7, 24), (1.4142135623730951, 15, 24), (1.7320508075688772, 5, 6), (1.7320508075688772, 7, 8), (1.7320508075688772, 0, 13), (1.7320508075688772, 13, 14), (1.7320508075688772, 14, 16), (1.7320508075688772, 0, 17), (1.7320508075688772, 14, 17), (1.7320508075688772, 15, 19), (1.7320508075688772, 13, 21), (1.7320508075688772, 16, 21), (1.7320508075688772, 20, 21), (1.7320508075688772, 10, 23), (1.7320508075688772, 13, 24), (2.0, 0, 1), (2.0, 0, 3), (2.0, 0, 7), (2.0, 8, 13), (2.0, 9, 13), (2.0, 7, 14), (2.0, 12, 14), (2.0, 7, 15), (2.0, 1, 21), (2.0, 3, 21), (2.0, 7, 21), (2.0, 16, 22), (2.0, 21, 23), (2.0, 21, 24), (2.23606797749979, 7, 9), (2.23606797749979, 10, 14), (2.23606797749979, 13, 15), (2.23606797749979, 7, 17), (2.23606797749979, 1, 20), (2.23606797749979, 3, 20), (2.23606797749979, 14, 20), (2.23606797749979, 15, 20), (2.23606797749979, 17, 21), (2.23606797749979, 19, 21), (2.23606797749979, 13, 23), (2.23606797749979, 8, 24), (2.23606797749979, 19, 24), (2.449489742783178, 1, 7), (2.449489742783178, 3, 7), (2.449489742783178, 0, 12), (2.449489742783178, 1, 12), (2.449489742783178, 3, 12), (2.449489742783178, 1, 15), (2.449489742783178, 3, 15), (2.449489742783178, 14, 15), (2.449489742783178, 13, 17), (2.449489742783178, 13, 19), (2.449489742783178, 16, 20), (2.449489742783178, 17, 20), (2.449489742783178, 0, 21), (2.449489742783178, 20, 22), (2.449489742783178, 7, 23), (2.449489742783178, 12, 23), (2.6457513110645907, 0, 8), (2.6457513110645907, 0, 10), (2.6457513110645907, 6, 10), (2.6457513110645907, 1, 13), (2.6457513110645907, 3, 13), (2.6457513110645907, 1, 16), (2.6457513110645907, 3, 16), (2.6457513110645907, 12, 16), (2.6457513110645907, 12, 17), (2.6457513110645907, 15, 17), (2.6457513110645907, 7, 19), (2.6457513110645907, 7, 20), (2.6457513110645907, 10, 21), (2.6457513110645907, 21, 22), (2.6457513110645907, 16, 23), (2.6457513110645907, 20, 23), (2.6457513110645907, 9, 24), (2.6457513110645907, 20, 24), (2.8284271247461903, 13, 16), (2.8284271247461903, 8, 19), (2.8284271247461903, 10, 20), (2.8284271247461903, 13, 20), (2.8284271247461903, 15, 23), (2.8284271247461903, 14, 24), (3.0, 0, 9), (3.0, 10, 12), (3.0, 8, 15), (3.0, 10, 15), (3.0, 0, 16), (3.0, 15, 16), (3.0, 14, 19), (3.0, 12, 20), (3.0, 1, 22), (3.0, 3, 22), (3.0, 6, 22), (3.0, 14, 22), (3.0, 17, 24), (3.1622776601683795, 1, 6), (3.1622776601683795, 2, 6), (3.1622776601683795, 3, 6), (3.1622776601683795, 0, 15), (3.1622776601683795, 10, 16), (3.1622776601683795, 8, 17), (3.1622776601683795, 16, 17), (3.1622776601683795, 9, 19), (3.1622776601683795, 12, 21), (3.1622776601683795, 10, 22), (3.1622776601683795, 0, 24), (3.1622776601683795, 1, 24), (3.1622776601683795, 3, 24), (3.1622776601683795, 23, 24), (3.3166247903554, 7, 10), (3.3166247903554, 8, 11), (3.3166247903554, 12, 13), (3.3166247903554, 8, 14), (3.3166247903554, 7, 16), (3.3166247903554, 0, 19), (3.3166247903554, 1, 19), (3.3166247903554, 3, 19), (3.3166247903554, 0, 20), (3.3166247903554, 8, 21), (3.3166247903554, 15, 22), (3.3166247903554, 8, 23), (3.3166247903554, 19, 23), (3.4641016151377544, 7, 12), (3.4641016151377544, 10, 13), (3.4641016151377544, 16, 19), (3.4641016151377544, 17, 19), (3.605551275463989, 1, 8), (3.605551275463989, 3, 8), (3.605551275463989, 2, 10), (3.605551275463989, 9, 11), (3.605551275463989, 9, 14), (3.605551275463989, 9, 15), (3.605551275463989, 6, 16), (3.605551275463989, 9, 21), (3.605551275463989, 12, 22), (3.605551275463989, 22, 23), (3.605551275463989, 16, 24), (3.7416573867739413, 5, 10), (3.7416573867739413, 6, 14), (3.7416573867739413, 10, 19), (3.7416573867739413, 19, 20), (3.7416573867739413, 6, 21), (3.7416573867739413, 5, 22), (3.7416573867739413, 17, 22), (3.7416573867739413, 6, 23), (3.872983346207417, 6, 17), (3.872983346207417, 9, 23), (3.872983346207417, 10, 24), (3.872983346207417, 18, 25), (4.0, 7, 11), (4.0, 6, 15), (4.0, 9, 17), (4.123105625617661, 1, 5), (4.123105625617661, 3, 5), (4.123105625617661, 11, 13), (4.123105625617661, 6, 19), (4.242640687119285, 8, 10), (4.242640687119285, 12, 15), (4.242640687119285, 8, 20), (4.242640687119285, 13, 22), (4.242640687119285, 19, 22), (4.242640687119285, 11, 24), (4.358898943540674, 2, 5), (4.358898943540674, 1, 9), (4.358898943540674, 3, 9), (4.358898943540674, 5, 15), (4.358898943540674, 6, 20), (4.358898943540674, 0, 22), (4.358898943540674, 7, 22), (4.358898943540674, 22, 24), (4.47213595499958, 1, 2), (4.47213595499958, 2, 3), (4.47213595499958, 0, 6), (4.47213595499958, 0, 11), (4.47213595499958, 5, 19), (4.47213595499958, 12, 24), (4.58257569495584, 11, 17), (4.58257569495584, 5, 21), (4.69041575982343, 6, 12), (4.69041575982343, 5, 16), (4.69041575982343, 8, 16), (4.69041575982343, 9, 16), (4.69041575982343, 2, 18), (4.69041575982343, 6, 18), (4.69041575982343, 9, 20), (4.69041575982343, 2, 23), (4.69041575982343, 11, 23), (4.795831523312719, 8, 12), (4.795831523312719, 5, 14), (4.795831523312719, 2, 17), (4.795831523312719, 2, 25), (4.898979485566356, 5, 17), (5.0, 9, 12), (5.0, 6, 13), (5.0, 12, 19), (5.0, 5, 23), (5.0990195135927845, 6, 7), (5.0990195135927845, 9, 10), (5.0990195135927845, 5, 20), (5.196152422706632, 2, 22), (5.291502622129181, 2, 12), (5.291502622129181, 2, 14), (5.291502622129181, 11, 14), (5.291502622129181, 11, 15), (5.291502622129181, 11, 21), (5.291502622129181, 6, 24), (5.477225575051661, 0, 2), (5.477225575051661, 1, 11), (5.477225575051661, 3, 11), (5.477225575051661, 16, 25), (5.5677643628300215, 0, 5), (5.5677643628300215, 2, 16), (5.5677643628300215, 11, 19), (5.5677643628300215, 11, 20), (5.5677643628300215, 6, 25), (5.5677643628300215, 23, 25), (5.744562646538029, 5, 7), (5.744562646538029, 5, 18), (5.744562646538029, 5, 24), (5.744562646538029, 12, 25), (5.830951894845301, 5, 13), (5.830951894845301, 2, 21), (5.830951894845301, 8, 22), (5.830951894845301, 10, 25), (5.830951894845301, 22, 25), (5.916079783099616, 6, 8), (5.916079783099616, 10, 11), (5.916079783099616, 5, 12), (6.0, 11, 12), (6.082762530298219, 2, 20), (6.082762530298219, 18, 22), (6.082762530298219, 14, 25), (6.164414002968976, 9, 22), (6.244997998398398, 16, 18), (6.244997998398398, 1, 25), (6.244997998398398, 3, 25), (6.324555320336759, 2, 4), (6.324555320336759, 2, 15), (6.324555320336759, 17, 25), (6.4031242374328485, 0, 25), (6.4031242374328485, 21, 25), (6.48074069840786, 5, 8), (6.557438524302, 6, 9), (6.557438524302, 11, 16), (6.557438524302, 10, 18), (6.557438524302, 2, 19), (6.708203932499369, 2, 13), (6.782329983125268, 2, 7), (6.782329983125268, 20, 25), (6.928203230275509, 18, 23), (7.0710678118654755, 1, 18), (7.0710678118654755, 3, 18), (7.0710678118654755, 14, 18), (7.211102550927978, 5, 9), (7.211102550927978, 18, 21), (7.211102550927978, 5, 25), (7.211102550927978, 13, 25), (7.3484692283495345, 12, 18), (7.3484692283495345, 2, 24), (7.416198487095663, 2, 8), (7.54983443527075, 17, 18), (7.54983443527075, 15, 25), (7.615773105863909, 0, 18), (7.615773105863909, 19, 25), (7.681145747868608, 18, 19), (7.681145747868608, 11, 22), (7.745966692414834, 4, 18), (7.810249675906654, 7, 25), (7.937253933193772, 18, 20), (8.0, 15, 18), (8.12403840463596, 6, 11), (8.18535277187245, 2, 9), (8.18535277187245, 24, 25), (8.306623862918075, 13, 18), (8.366600265340756, 4, 6), (8.602325267042627, 8, 25), (8.660254037844387, 4, 5), (8.717797887081348, 9, 25), (8.831760866327848, 2, 11), (8.831760866327848, 7, 18), (8.888194417315589, 4, 25), (9.0, 5, 11), (9.055385138137417, 18, 24), (9.219544457292887, 11, 25), (9.433981132056603, 4, 10), (9.539392014169456, 8, 18), (9.746794344808963, 9, 18), (9.9498743710662, 4, 22), (10.295630140987, 1, 4), (10.295630140987, 3, 4), (10.723805294763608, 4, 17), (10.770329614269007, 4, 23), (10.862780491200215, 4, 12), (11.090536506409418, 4, 16), (11.224972160321824, 4, 14), (11.224972160321824, 11, 18), (11.357816691600547, 4, 20), (11.575836902790225, 4, 21), (11.661903789690601, 0, 4), (11.916375287812984, 4, 15), (12.36931687685298, 4, 19), (12.727922061357855, 4, 7), (12.767145334803704, 4, 13), (13.114877048604, 4, 24), (13.527749258468683, 4, 8), (14.38749456993816, 4, 9), (14.7648230602334, 4, 11)] \n",
      "\n",
      "min distance is between 1 th letter and 3 th letter. min distance is 0.0 \n",
      "\n"
     ]
    }
   ],
   "source": [
    "letters = genfromtxt('1) letters.csv', delimiter =',')\n",
    "\n",
    "\n",
    "#the main block: run 5 scans for each of the 26 letters, store results in a dictionary.\n",
    "i=0\n",
    "i_to_result = dict()\n",
    "while i<=25:\n",
    "    letter_one_line = letters[i,1:] #!!!change it! drop the first number of [12,0,0,0,1,0,0......]\n",
    "#initialize matrix of size 10x10 with all values 100\n",
    "    letter= np.full((10,10),100)\n",
    "   #test 1 probing upper left\n",
    "    for k in range(1,100):\n",
    "        if letter_one_line[k]==1.0:\n",
    "            row=int((k-1)/10)\n",
    "            column= (k-1)%10\n",
    "            letter[row,column]= max((k-1)%10, int((k-1)/10))\n",
    "    PUscan = lower_star_img(letter)\n",
    "    #test 2 left to right\n",
    "    for j in range(1,100):\n",
    "        if letter_one_line[j]==1.0:\n",
    "            row=int((j-1)/10)\n",
    "            column= (j-1)%10\n",
    "            letter[row,column]= j%10\n",
    "    LRscan = lower_star_img(letter)\n",
    "    #test 3 right to left\n",
    "    for k in range(1,100):\n",
    "        if letter_one_line[k]==1.0:\n",
    "            row=int((k-1)/10)\n",
    "            column= (k-1)%10\n",
    "            letter[row,column]= 10 - (k-1)%10\n",
    "    RLscan = lower_star_img(letter)\n",
    "    #test 4 probing from bottom right\n",
    "    for k in range(1,100):\n",
    "        if letter_one_line[k]==1.0:\n",
    "            row=int((k-1)/10)\n",
    "            column= (k-1)%10\n",
    "            letter[row,column]= max(9-(k-1)%10,9-int((k-1)/10))  \n",
    "    PLBscan = lower_star_img(letter)\n",
    "    #test 5 probing from upper right to lower left \n",
    "    for k in range(1,100):       \n",
    "        if letter_one_line[k]==1.0:\n",
    "            row=int((k-1)/10)\n",
    "            column= (k-1)%10\n",
    "            letter[row,column]= max(9-(k-1)%10,int((k-1)/10))  \n",
    "    PURscan = lower_star_img(letter) \n",
    "    i_to_result[i] = (PUscan, LRscan, RLscan, PLBscan, PURscan)\n",
    "    i+=1\n",
    "\n",
    "#change all infinity in life-death pair to 100.    \n",
    "l=0\n",
    "while l <=25:\n",
    "    for j in range(5):\n",
    "        len_j = len(i_to_result[l][j])\n",
    "        for k in range(len_j):\n",
    "            if str(i_to_result[l][j][k][1])=='inf':\n",
    "                i_to_result[l][j][k][1]=100\n",
    "    l+=1\n",
    "\n",
    "#calculate feature vector for each letter, store them in a matrix. \n",
    "#every feature vector has 5 components, each component stands for the sum of \"lifespan\" of the life-death pairs in one scan.\n",
    "l=0\n",
    "vec_mtx = np.zeros((26,10))\n",
    "while l < 26:\n",
    "    for j in range(5):\n",
    "        len_j = len(i_to_result[l][j])\n",
    "        sum_j = 0\n",
    "        for k in range(len_j):\n",
    "            sum_j = sum_j+ (i_to_result[l][j][k][1]-i_to_result[l][j][k][0])\n",
    "            vec_mtx[l][j] = sum_j\n",
    "    l+=1\n",
    "print('feature matrix:\\n',vec_mtx,'\\n')\n",
    "\n",
    "#calculate the pairwise distance between each two letter, store them in a list.\n",
    "all_dis = []\n",
    "for q in range(26):\n",
    "    for p in range(q):\n",
    "            dis = np.linalg.norm(vec_mtx[q]-vec_mtx[p])\n",
    "            all_dis.append((dis,p,q))\n",
    "\n",
    "#sort all the distance from low to high, find the minimum distance, also find which letter pair has the minimum distance.             \n",
    "def getkey(item):\n",
    "    return item[0]\n",
    "\n",
    "sorted_dis = sorted(all_dis, key=getkey)\n",
    "print('how many items in this sorted distance list:',len(sorted_dis),'\\n','sorted distance:',sorted_dis,'\\n')\n",
    "\n",
    "print('min distance is between',sorted_dis[0][1],'th letter and',sorted_dis[0][2],'th letter. min distance is',sorted_dis[0][0],'\\n')\n",
    "\n",
    "\n"
   ]
  },
  {
   "cell_type": "code",
   "execution_count": 11,
   "metadata": {},
   "outputs": [
    {
     "name": "stdout",
     "output_type": "stream",
     "text": [
      "feature vect of input list is: [ 99. 101. 100.  98. 101.]\n",
      "standard feature vect of S is: [ 99. 103. 101.  97. 100.]\n",
      "the best fitted letter is: 18 th letter \n",
      " the closest distance is: 2.6457513110645907 \n",
      " other option: (3.605551275463989, 6) (3.872983346207417, 2) (4.47213595499958, 5) \n",
      "\n",
      "full resulting distance: \n",
      " [(2.6457513110645907, 18), (3.605551275463989, 6), (3.872983346207417, 2), (4.47213595499958, 5), (4.69041575982343, 22), (4.69041575982343, 25), (5.291502622129181, 16), (5.477225575051661, 10), (5.916079783099616, 1), (5.916079783099616, 3), (6.082762530298219, 12), (6.082762530298219, 14), (6.244997998398398, 23), (6.4031242374328485, 21), (6.6332495807108, 17), (6.782329983125268, 20), (6.855654600401044, 0), (7.0, 4), (7.14142842854285, 15), (7.211102550927978, 19), (7.615773105863909, 13), (7.937253933193772, 7), (8.306623862918075, 24), (8.94427190999916, 8), (9.273618495495704, 9), (10.908712114635714, 11)]\n"
     ]
    }
   ],
   "source": [
    "#convert new test input list of 01010101... into feature vector.\n",
    "def get_feature_vec(test): # 'test' stands for the 01010101... input.\n",
    "    #run all the scans, get the life-death pairs.\n",
    "    letter= np.full((10,10),100)\n",
    "   #test 1 probing upper left\n",
    "    for k in range(1,100):\n",
    "        if test[k]==1.0:\n",
    "            row=int((k-1)/10)\n",
    "            column= (k-1)%10\n",
    "            letter[row,column]= max((k-1)%10, int((k-1)/10))\n",
    "    PUscan = lower_star_img(letter)\n",
    "    #test 2 left to right\n",
    "    for j in range(1,100):\n",
    "        if test[j]==1.0:\n",
    "            row=int((j-1)/10)\n",
    "            column= (j-1)%10\n",
    "            letter[row,column]= j%10\n",
    "    LRscan = lower_star_img(letter)\n",
    "    #test 3 right to left\n",
    "    for k in range(1,100):\n",
    "        if test[k]==1.0:\n",
    "            row=int((k-1)/10)\n",
    "            column= (k-1)%10\n",
    "            letter[row,column]= 10 - (k-1)%10\n",
    "    RLscan = lower_star_img(letter)\n",
    "    #test 4 probing from bottom right\n",
    "    for k in range(1,100):\n",
    "        if test[k]==1.0:\n",
    "            row=int((k-1)/10)\n",
    "            column= (k-1)%10\n",
    "            letter[row,column]= max(9-(k-1)%10,9-int((k-1)/10))  \n",
    "    PLBscan = lower_star_img(letter)\n",
    "    #test 5 probing from upper right to lower left \n",
    "    for k in range(1,100):       \n",
    "        if test[k]==1.0:\n",
    "            row=int((k-1)/10)\n",
    "            column= (k-1)%10\n",
    "            letter[row,column]= max(9-(k-1)%10,int((k-1)/10))  \n",
    "    PURscan = lower_star_img(letter) \n",
    "    test_result = (PUscan, LRscan, RLscan, PLBscan, PURscan)\n",
    "        \n",
    "    #change all infini to 100\n",
    "    for j in range(5):\n",
    "        len_j = len(test_result[j])\n",
    "        for k in range(len_j):\n",
    "            if str(test_result[j][k][1])=='inf':\n",
    "                test_result[j][k][1]=100\n",
    "    \n",
    "    #get the feature vector\n",
    "    test_feature = np.zeros(5)\n",
    "    for j in range(5):\n",
    "        len_j = len(test_result[j])\n",
    "        sum_j = 0\n",
    "        for k in range(len_j):\n",
    "            sum_j = sum_j+ (test_result[j][k][1]-test_result[j][k][0])\n",
    "            test_feature[j] = sum_j\n",
    "            \n",
    "    return test_feature\n",
    "\n",
    "#make up a test list. I wrote the letter S (the 18th letter) in 10X10 grid, and recored the coordinates in one_list.\n",
    "New_S = [0]*100\n",
    "one_list = [14,15,16,17,23,27,33,43,44,45,46,56,57,67,73,74,76,77,84,85,86]\n",
    "\n",
    "for i in one_list:\n",
    "    New_S[i]=1\n",
    "    \n",
    "feature_vect = get_feature_vec(New_S)\n",
    "\n",
    "print('feature vect of input list is:',feature_vect)\n",
    "print('standard feature vect of S is:', vec_mtx[18])\n",
    "\n",
    "#compare the newly obtained test feature vector, to each of the feature vector stored in matrix.\n",
    "def find_new_dis(feature):\n",
    "    test_dis = []\n",
    "    for i in range(len(vec_mtx)):\n",
    "    # compare feature_vect with each of the vect in vec_mtx, see which distance=norm(feature_vect - vect) is smalletst.\n",
    "        d = np.linalg.norm(feature - vec_mtx[i])\n",
    "        test_dis.append((d,i))\n",
    "    return test_dis\n",
    "\n",
    "new_dis = find_new_dis(feature_vect)\n",
    "    \n",
    "#then find the which vector has the smallest distance with input test vector, choose it as our best fitted letter.\n",
    "def sort_dis(dis_list):\n",
    "    sorted_list = sorted(dis_list,key=getkey)\n",
    "    return sorted_list\n",
    "\n",
    "sorted_result = sort_dis(new_dis)\n",
    "\n",
    "print('the best fitted letter is:',sorted_result[0][1],'th letter','\\n','the closest distance is:',sorted_result[0][0],'\\n',\n",
    "     'other option:',sorted_result[1],sorted_result[2],sorted_result[3],'\\n')\n",
    "\n",
    "print('full resulting distance:','\\n',sorted_result)"
   ]
  },
  {
   "cell_type": "code",
   "execution_count": null,
   "metadata": {},
   "outputs": [],
   "source": []
  },
  {
   "cell_type": "code",
   "execution_count": null,
   "metadata": {},
   "outputs": [],
   "source": []
  },
  {
   "cell_type": "code",
   "execution_count": 16,
   "metadata": {
    "colab": {
     "base_uri": "https://localhost:8080/",
     "height": 561
    },
    "colab_type": "code",
    "id": "libL1kx_Dp0o",
    "outputId": "2b9b89dc-84dc-4399-a8c6-4bd569b8ab00"
   },
   "outputs": [
    {
     "name": "stdout",
     "output_type": "stream",
     "text": [
      "G feature: [99. 99. 99. 96. 99.] \n",
      " [99. 99. 99. 96. 99.]\n",
      "Noise G: [281. 287. 289. 288. 281.] \n",
      " [99. 99. 99. 96. 99.]\n",
      "the new distance list: [(412.4051406081161, 4), (414.2052631244562, 18), (414.6263378030875, 25), (416.85249189611426, 2), (417.388308413161, 22), (417.79899473311326, 6), (418.26905216618644, 16), (418.2762245215475, 5), (418.68126301519635, 12), (419.1217007027911, 10), (419.1741881366266, 20), (419.5688262967114, 23), (419.57835978515385, 1), (419.57835978515385, 3), (419.58789305698514, 14), (419.61172528898663, 21), (420.01785676325716, 17), (420.46165104560964, 0), (420.51872728809593, 15), (420.9429890139519, 13), (420.9619935338581, 19), (421.3905551860412, 7), (421.41665842726246, 24), (422.71858251087093, 8), (422.732776112759, 9), (423.16190754839926, 11)]\n"
     ]
    }
   ],
   "source": [
    "#THe noise generating block\n",
    "\n",
    "letters = genfromtxt('1) letters.csv', delimiter =',')\n",
    "letter_G = letters[6,1:]\n",
    "\n",
    "G_feature = get_feature_vec(letter_G)\n",
    "print('G feature:',G_feature,'\\n',vec_mtx[6])\n",
    "\n",
    "G_dis = find_new_dis(G_feature)\n",
    "sort_G = sort_dis(G_dis)\n",
    "\n",
    "# add random noise point to original letter G, see the result.\n",
    "random_ones = np.random.randint(0,100,4)\n",
    "\n",
    "add_one = np.zeros(100)\n",
    "for i in random_ones:\n",
    "    add_one[i]=1\n",
    "\n",
    "Noise_G = letter_G + add_one\n",
    "\n",
    "NG_feature = get_feature_vec(Noise_G)\n",
    "print('Noise G:',NG_feature,'\\n',vec_mtx[6])\n",
    "\n",
    "NG_dis = find_new_dis(NG_feature)\n",
    "sort_NG = sort_dis(NG_dis)\n",
    "print('the new distance list:',sort_NG)\n",
    "\n",
    "#conclusion: this method is not rebust against noise points. at. all."
   ]
  },
  {
   "cell_type": "code",
   "execution_count": null,
   "metadata": {},
   "outputs": [],
   "source": []
  },
  {
   "cell_type": "code",
   "execution_count": 21,
   "metadata": {
    "colab": {
     "base_uri": "https://localhost:8080/",
     "height": 663
    },
    "colab_type": "code",
    "id": "d4AhnAy1qbQP",
    "outputId": "38abdd51-9264-4be4-8680-dd955fbd8a42"
   },
   "outputs": [
    {
     "data": {
      "text/plain": [
       "12"
      ]
     },
     "execution_count": 21,
     "metadata": {},
     "output_type": "execute_result"
    }
   ],
   "source": [
    "# if we're tired of counting letters by fingers, use this number-letter converter.\n",
    "i_list = list(range(26))\n",
    "letter_list = ['a','b','c','d','e','f','g','h','i','j','k','l','m','n','o','p','q','r','s','t','u','v','w','x','y','z']\n",
    "i_letter_pair = list(zip(i_list,letter_list))\n",
    "\n",
    "\n",
    "i_to_letter = {}\n",
    "for i in range(26):\n",
    "    i_to_letter[i]=letter_list[i]\n",
    "\n",
    "letter_to_i={}\n",
    "for i,letter in i_letter_pair:\n",
    "    letter_to_i[letter]=i\n",
    "\n",
    "letter_to_i['m']"
   ]
  },
  {
   "cell_type": "code",
   "execution_count": 21,
   "metadata": {
    "colab": {
     "base_uri": "https://localhost:8080/",
     "height": 561
    },
    "colab_type": "code",
    "id": "pjd688_AAm1E",
    "outputId": "21e4283d-9be2-413f-aafc-3caf561fbe57"
   },
   "outputs": [
    {
     "data": {
      "text/plain": [
       "'d'"
      ]
     },
     "execution_count": 21,
     "metadata": {},
     "output_type": "execute_result"
    }
   ],
   "source": [
    "i_to_letter[3]"
   ]
  },
  {
   "cell_type": "code",
   "execution_count": 28,
   "metadata": {
    "colab": {
     "base_uri": "https://localhost:8080/",
     "height": 34
    },
    "colab_type": "code",
    "id": "6wUSclc-umlq",
    "outputId": "42643072-eb1c-4e3d-b872-d0e42dde74a9"
   },
   "outputs": [
    {
     "name": "stdout",
     "output_type": "stream",
     "text": [
      "M1 feature vect: [ 97. 107.  99. 102.  99.] original M feature vect: [99. 99. 96. 99. 97.] \n",
      "\n",
      "sorted distance from M1: [(6.244997998398398, 25), (7.0710678118654755, 18), (9.273618495495704, 2), (9.486832980505138, 12), (9.643650760992955, 16), (10.198039027185569, 6), (10.295630140987, 14), (10.295630140987, 23), (10.392304845413264, 0), (10.44030650891055, 22), (10.723805294763608, 10), (10.862780491200215, 1), (10.862780491200215, 3), (11.045361017187261, 21), (11.090536506409418, 17), (11.357816691600547, 13), (11.61895003862225, 5), (11.61895003862225, 20), (11.916375287812984, 4), (12.041594578792296, 19), (12.083045973594572, 7), (12.328828005937952, 15), (12.449899597988733, 9), (12.767145334803704, 8), (12.806248474865697, 24), (13.638181696985855, 11)]\n"
     ]
    }
   ],
   "source": [
    "ones_M1 = [14,15,24,25,29,34,35,38,39,43,44,45,48,50,53,55,56,58,60,63,65,67,70,72,76,77,80,82,86,90]\n",
    "letter_M1 = np.zeros(100)\n",
    "for i in ones_M1:\n",
    "    letter_M1[i] = 1\n",
    "    \n",
    "M1_feature = get_feature_vec(letter_M1)\n",
    "print('M1 feature vect:',M1_feature,'original M feature vect:',vec_mtx[12],'\\n')\n",
    "\n",
    "M1_dis = find_new_dis(M1_feature)\n",
    "M1_sort = sort_dis(M1_dis)\n",
    "\n",
    "print('sorted distance from M1:',M1_sort)\n"
   ]
  },
  {
   "cell_type": "code",
   "execution_count": null,
   "metadata": {},
   "outputs": [],
   "source": []
  },
  {
   "cell_type": "code",
   "execution_count": null,
   "metadata": {
    "colab": {},
    "colab_type": "code",
    "id": "AAcs9KuD8cLe"
   },
   "outputs": [],
   "source": []
  },
  {
   "cell_type": "code",
   "execution_count": null,
   "metadata": {},
   "outputs": [],
   "source": []
  }
 ],
 "metadata": {
  "colab": {
   "name": "TDA with tests and dictionary.ipynb",
   "provenance": []
  },
  "kernelspec": {
   "display_name": "Python 3",
   "language": "python",
   "name": "python3"
  },
  "language_info": {
   "codemirror_mode": {
    "name": "ipython",
    "version": 3
   },
   "file_extension": ".py",
   "mimetype": "text/x-python",
   "name": "python",
   "nbconvert_exporter": "python",
   "pygments_lexer": "ipython3",
   "version": "3.7.3"
  }
 },
 "nbformat": 4,
 "nbformat_minor": 1
}
